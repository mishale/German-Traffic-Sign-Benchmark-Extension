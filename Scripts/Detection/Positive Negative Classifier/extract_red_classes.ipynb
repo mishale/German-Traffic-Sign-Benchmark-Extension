{
 "cells": [
  {
   "cell_type": "code",
   "execution_count": 13,
   "id": "6ab173b8",
   "metadata": {},
   "outputs": [],
   "source": [
    "from PIL import Image"
   ]
  },
  {
   "cell_type": "code",
   "execution_count": 95,
   "id": "44a452ea",
   "metadata": {},
   "outputs": [],
   "source": [
    "cl = 31\n",
    "num = 2"
   ]
  },
  {
   "cell_type": "code",
   "execution_count": 96,
   "id": "136ac96a",
   "metadata": {},
   "outputs": [],
   "source": [
    "def convert_ppm_to_jpeg(ppm_filename, jpeg_filename):\n",
    "    try:\n",
    "        image = Image.open(ppm_filename)\n",
    "        image.save(jpeg_filename, \"JPEG\")\n",
    "        #print(f\"{ppm_filename} wurde erfolgreich in {jpeg_filename} umgewandelt und gespeichert.\")\n",
    "    except Exception as e:\n",
    "        print(f\"Fehler beim Umwandeln von {ppm_filename} zu JPEG: {e}\")"
   ]
  },
  {
   "cell_type": "code",
   "execution_count": 97,
   "id": "d2577451",
   "metadata": {},
   "outputs": [],
   "source": [
    "for i in range(num):\n",
    "    if i<10:\n",
    "        #ppm_filename = r\"C:\\Users\\Pia\\Desktop\\GTSDB\\FullIJCNN2013\\0\"+str(cl)+\"\\0000\"+str(i)+\".ppm\"  # Passe den Dateinamen\n",
    "        ppm_filename = rf\"C:\\Users\\Pia\\Desktop\\GTSDB\\FullIJCNN2013\\{cl}\\0000{i}.ppm\"\n",
    "    else:\n",
    "        #ppm_filename = r\"C:\\Users\\Pia\\Desktop\\GTSDB\\FullIJCNN2013\\04\\000\"+str(i)+\".ppm\"\n",
    "        ppm_filename = rf\"C:\\Users\\Pia\\Desktop\\GTSDB\\FullIJCNN2013\\{cl}\\000{i}.ppm\"\n",
    "    #jpeg_filename = r\"C:\\Users\\Pia\\Desktop\\RedClasses\\0\"+str(cl)+\"_\"+str(i)+\".jpg\"\n",
    "    jpeg_filename = rf\"C:\\Users\\Pia\\Desktop\\RedClasses\\{cl}_{i}.jpg\"\n",
    "    convert_ppm_to_jpeg(ppm_filename, jpeg_filename)"
   ]
  },
  {
   "cell_type": "code",
   "execution_count": null,
   "id": "d36d71a1",
   "metadata": {},
   "outputs": [],
   "source": []
  }
 ],
 "metadata": {
  "kernelspec": {
   "display_name": "Python 3 (ipykernel)",
   "language": "python",
   "name": "python3"
  },
  "language_info": {
   "codemirror_mode": {
    "name": "ipython",
    "version": 3
   },
   "file_extension": ".py",
   "mimetype": "text/x-python",
   "name": "python",
   "nbconvert_exporter": "python",
   "pygments_lexer": "ipython3",
   "version": "3.10.9"
  }
 },
 "nbformat": 4,
 "nbformat_minor": 5
}
