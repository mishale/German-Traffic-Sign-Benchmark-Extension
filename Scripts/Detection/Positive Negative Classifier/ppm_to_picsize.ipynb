{
 "cells": [
  {
   "cell_type": "code",
   "execution_count": 17,
   "id": "01324b2a",
   "metadata": {},
   "outputs": [],
   "source": [
    "from PIL import Image"
   ]
  },
  {
   "cell_type": "code",
   "execution_count": 18,
   "id": "49abfb0e",
   "metadata": {},
   "outputs": [],
   "source": [
    "def convert_ppm_to_jpeg(ppm_filename, jpeg_filename):\n",
    "    try:\n",
    "        image = Image.open(ppm_filename)\n",
    "        image.save(jpeg_filename, \"JPEG\")\n",
    "        #print(f\"{ppm_filename} wurde erfolgreich in {jpeg_filename} umgewandelt und gespeichert.\")\n",
    "    except Exception as e:\n",
    "        print(f\"Fehler beim Umwandeln von {ppm_filename} zu JPEG: {e}\")"
   ]
  },
  {
   "cell_type": "code",
   "execution_count": 19,
   "id": "346a5613",
   "metadata": {},
   "outputs": [],
   "source": [
    "def get_image_size(jpeg_filename):\n",
    "    try:\n",
    "        image = Image.open(jpeg_filename)\n",
    "        width, height = image.size\n",
    "        return width, height\n",
    "    except Exception as e:\n",
    "        print(f\"Fehler beim Abrufen der Bildgröße von {jpeg_filename}: {e}\")\n",
    "        return None, None"
   ]
  },
  {
   "cell_type": "code",
   "execution_count": 20,
   "id": "c70ea095",
   "metadata": {},
   "outputs": [],
   "source": [
    "width_all = []\n",
    "height_all = []"
   ]
  },
  {
   "cell_type": "code",
   "execution_count": 21,
   "id": "25531347",
   "metadata": {},
   "outputs": [
    {
     "name": "stdout",
     "output_type": "stream",
     "text": [
      "Die Bildgröße von C:\\Users\\Pia\\Desktop\\Class38JPEG\\00.jpg ist 57 x 59 Pixel.\n",
      "Die Bildgröße von C:\\Users\\Pia\\Desktop\\Class38JPEG\\01.jpg ist 27 x 27 Pixel.\n",
      "Die Bildgröße von C:\\Users\\Pia\\Desktop\\Class38JPEG\\02.jpg ist 67 x 67 Pixel.\n",
      "Die Bildgröße von C:\\Users\\Pia\\Desktop\\Class38JPEG\\03.jpg ist 39 x 40 Pixel.\n",
      "Die Bildgröße von C:\\Users\\Pia\\Desktop\\Class38JPEG\\04.jpg ist 23 x 22 Pixel.\n",
      "Die Bildgröße von C:\\Users\\Pia\\Desktop\\Class38JPEG\\05.jpg ist 35 x 34 Pixel.\n",
      "Die Bildgröße von C:\\Users\\Pia\\Desktop\\Class38JPEG\\06.jpg ist 63 x 94 Pixel.\n",
      "Die Bildgröße von C:\\Users\\Pia\\Desktop\\Class38JPEG\\07.jpg ist 40 x 40 Pixel.\n",
      "Die Bildgröße von C:\\Users\\Pia\\Desktop\\Class38JPEG\\08.jpg ist 21 x 21 Pixel.\n",
      "Die Bildgröße von C:\\Users\\Pia\\Desktop\\Class38JPEG\\09.jpg ist 28 x 28 Pixel.\n",
      "Die Bildgröße von C:\\Users\\Pia\\Desktop\\Class38JPEG\\010.jpg ist 50 x 53 Pixel.\n",
      "Die Bildgröße von C:\\Users\\Pia\\Desktop\\Class38JPEG\\011.jpg ist 39 x 43 Pixel.\n",
      "Die Bildgröße von C:\\Users\\Pia\\Desktop\\Class38JPEG\\012.jpg ist 17 x 23 Pixel.\n",
      "Die Bildgröße von C:\\Users\\Pia\\Desktop\\Class38JPEG\\013.jpg ist 85 x 89 Pixel.\n",
      "Die Bildgröße von C:\\Users\\Pia\\Desktop\\Class38JPEG\\014.jpg ist 28 x 29 Pixel.\n",
      "Die Bildgröße von C:\\Users\\Pia\\Desktop\\Class38JPEG\\015.jpg ist 49 x 54 Pixel.\n",
      "Die Bildgröße von C:\\Users\\Pia\\Desktop\\Class38JPEG\\016.jpg ist 22 x 23 Pixel.\n",
      "Die Bildgröße von C:\\Users\\Pia\\Desktop\\Class38JPEG\\017.jpg ist 59 x 59 Pixel.\n",
      "Die Bildgröße von C:\\Users\\Pia\\Desktop\\Class38JPEG\\018.jpg ist 57 x 60 Pixel.\n",
      "Die Bildgröße von C:\\Users\\Pia\\Desktop\\Class38JPEG\\019.jpg ist 44 x 46 Pixel.\n",
      "Die Bildgröße von C:\\Users\\Pia\\Desktop\\Class38JPEG\\020.jpg ist 22 x 22 Pixel.\n",
      "Die Bildgröße von C:\\Users\\Pia\\Desktop\\Class38JPEG\\021.jpg ist 32 x 32 Pixel.\n",
      "Die Bildgröße von C:\\Users\\Pia\\Desktop\\Class38JPEG\\022.jpg ist 28 x 40 Pixel.\n",
      "Die Bildgröße von C:\\Users\\Pia\\Desktop\\Class38JPEG\\023.jpg ist 73 x 73 Pixel.\n",
      "Die Bildgröße von C:\\Users\\Pia\\Desktop\\Class38JPEG\\024.jpg ist 18 x 18 Pixel.\n",
      "Die Bildgröße von C:\\Users\\Pia\\Desktop\\Class38JPEG\\025.jpg ist 25 x 26 Pixel.\n",
      "Die Bildgröße von C:\\Users\\Pia\\Desktop\\Class38JPEG\\026.jpg ist 21 x 23 Pixel.\n",
      "Die Bildgröße von C:\\Users\\Pia\\Desktop\\Class38JPEG\\027.jpg ist 29 x 30 Pixel.\n",
      "Die Bildgröße von C:\\Users\\Pia\\Desktop\\Class38JPEG\\028.jpg ist 34 x 33 Pixel.\n",
      "Die Bildgröße von C:\\Users\\Pia\\Desktop\\Class38JPEG\\029.jpg ist 69 x 73 Pixel.\n",
      "Die Bildgröße von C:\\Users\\Pia\\Desktop\\Class38JPEG\\030.jpg ist 93 x 96 Pixel.\n",
      "Die Bildgröße von C:\\Users\\Pia\\Desktop\\Class38JPEG\\031.jpg ist 78 x 79 Pixel.\n",
      "Die Bildgröße von C:\\Users\\Pia\\Desktop\\Class38JPEG\\032.jpg ist 45 x 54 Pixel.\n",
      "Die Bildgröße von C:\\Users\\Pia\\Desktop\\Class38JPEG\\033.jpg ist 57 x 57 Pixel.\n",
      "Die Bildgröße von C:\\Users\\Pia\\Desktop\\Class38JPEG\\034.jpg ist 34 x 34 Pixel.\n",
      "Die Bildgröße von C:\\Users\\Pia\\Desktop\\Class38JPEG\\035.jpg ist 22 x 22 Pixel.\n",
      "Die Bildgröße von C:\\Users\\Pia\\Desktop\\Class38JPEG\\036.jpg ist 57 x 57 Pixel.\n",
      "Die Bildgröße von C:\\Users\\Pia\\Desktop\\Class38JPEG\\037.jpg ist 54 x 61 Pixel.\n",
      "Die Bildgröße von C:\\Users\\Pia\\Desktop\\Class38JPEG\\038.jpg ist 34 x 34 Pixel.\n",
      "Die Bildgröße von C:\\Users\\Pia\\Desktop\\Class38JPEG\\039.jpg ist 22 x 23 Pixel.\n",
      "Die Bildgröße von C:\\Users\\Pia\\Desktop\\Class38JPEG\\040.jpg ist 31 x 32 Pixel.\n",
      "Die Bildgröße von C:\\Users\\Pia\\Desktop\\Class38JPEG\\041.jpg ist 20 x 20 Pixel.\n",
      "Die Bildgröße von C:\\Users\\Pia\\Desktop\\Class38JPEG\\042.jpg ist 23 x 23 Pixel.\n",
      "Die Bildgröße von C:\\Users\\Pia\\Desktop\\Class38JPEG\\043.jpg ist 25 x 25 Pixel.\n",
      "Die Bildgröße von C:\\Users\\Pia\\Desktop\\Class38JPEG\\044.jpg ist 59 x 70 Pixel.\n",
      "Die Bildgröße von C:\\Users\\Pia\\Desktop\\Class38JPEG\\045.jpg ist 34 x 41 Pixel.\n",
      "Die Bildgröße von C:\\Users\\Pia\\Desktop\\Class38JPEG\\046.jpg ist 50 x 49 Pixel.\n",
      "Die Bildgröße von C:\\Users\\Pia\\Desktop\\Class38JPEG\\047.jpg ist 110 x 112 Pixel.\n",
      "Die Bildgröße von C:\\Users\\Pia\\Desktop\\Class38JPEG\\048.jpg ist 35 x 35 Pixel.\n",
      "Die Bildgröße von C:\\Users\\Pia\\Desktop\\Class38JPEG\\049.jpg ist 70 x 72 Pixel.\n",
      "Die Bildgröße von C:\\Users\\Pia\\Desktop\\Class38JPEG\\050.jpg ist 32 x 33 Pixel.\n",
      "Die Bildgröße von C:\\Users\\Pia\\Desktop\\Class38JPEG\\051.jpg ist 17 x 19 Pixel.\n",
      "Die Bildgröße von C:\\Users\\Pia\\Desktop\\Class38JPEG\\052.jpg ist 17 x 17 Pixel.\n",
      "Die Bildgröße von C:\\Users\\Pia\\Desktop\\Class38JPEG\\053.jpg ist 59 x 59 Pixel.\n",
      "Die Bildgröße von C:\\Users\\Pia\\Desktop\\Class38JPEG\\054.jpg ist 21 x 20 Pixel.\n",
      "Die Bildgröße von C:\\Users\\Pia\\Desktop\\Class38JPEG\\055.jpg ist 33 x 33 Pixel.\n",
      "Die Bildgröße von C:\\Users\\Pia\\Desktop\\Class38JPEG\\056.jpg ist 25 x 25 Pixel.\n",
      "Die Bildgröße von C:\\Users\\Pia\\Desktop\\Class38JPEG\\057.jpg ist 92 x 92 Pixel.\n",
      "Die Bildgröße von C:\\Users\\Pia\\Desktop\\Class38JPEG\\058.jpg ist 48 x 50 Pixel.\n",
      "Die Bildgröße von C:\\Users\\Pia\\Desktop\\Class38JPEG\\059.jpg ist 71 x 82 Pixel.\n",
      "Die Bildgröße von C:\\Users\\Pia\\Desktop\\Class38JPEG\\060.jpg ist 49 x 50 Pixel.\n",
      "Die Bildgröße von C:\\Users\\Pia\\Desktop\\Class38JPEG\\061.jpg ist 24 x 23 Pixel.\n",
      "Die Bildgröße von C:\\Users\\Pia\\Desktop\\Class38JPEG\\062.jpg ist 55 x 58 Pixel.\n",
      "Die Bildgröße von C:\\Users\\Pia\\Desktop\\Class38JPEG\\063.jpg ist 23 x 23 Pixel.\n",
      "Die Bildgröße von C:\\Users\\Pia\\Desktop\\Class38JPEG\\064.jpg ist 22 x 23 Pixel.\n",
      "Die Bildgröße von C:\\Users\\Pia\\Desktop\\Class38JPEG\\065.jpg ist 21 x 21 Pixel.\n",
      "Die Bildgröße von C:\\Users\\Pia\\Desktop\\Class38JPEG\\066.jpg ist 36 x 36 Pixel.\n",
      "Die Bildgröße von C:\\Users\\Pia\\Desktop\\Class38JPEG\\067.jpg ist 30 x 30 Pixel.\n",
      "Die Bildgröße von C:\\Users\\Pia\\Desktop\\Class38JPEG\\068.jpg ist 45 x 45 Pixel.\n",
      "Die Bildgröße von C:\\Users\\Pia\\Desktop\\Class38JPEG\\069.jpg ist 67 x 67 Pixel.\n",
      "Die Bildgröße von C:\\Users\\Pia\\Desktop\\Class38JPEG\\070.jpg ist 49 x 50 Pixel.\n",
      "Die Bildgröße von C:\\Users\\Pia\\Desktop\\Class38JPEG\\071.jpg ist 30 x 30 Pixel.\n",
      "Die Bildgröße von C:\\Users\\Pia\\Desktop\\Class38JPEG\\072.jpg ist 40 x 40 Pixel.\n",
      "Die Bildgröße von C:\\Users\\Pia\\Desktop\\Class38JPEG\\073.jpg ist 31 x 31 Pixel.\n",
      "Die Bildgröße von C:\\Users\\Pia\\Desktop\\Class38JPEG\\074.jpg ist 61 x 57 Pixel.\n",
      "Die Bildgröße von C:\\Users\\Pia\\Desktop\\Class38JPEG\\075.jpg ist 30 x 30 Pixel.\n",
      "Die Bildgröße von C:\\Users\\Pia\\Desktop\\Class38JPEG\\076.jpg ist 22 x 22 Pixel.\n",
      "Die Bildgröße von C:\\Users\\Pia\\Desktop\\Class38JPEG\\077.jpg ist 44 x 47 Pixel.\n",
      "Die Bildgröße von C:\\Users\\Pia\\Desktop\\Class38JPEG\\078.jpg ist 122 x 126 Pixel.\n",
      "Die Bildgröße von C:\\Users\\Pia\\Desktop\\Class38JPEG\\079.jpg ist 49 x 52 Pixel.\n",
      "Die Bildgröße von C:\\Users\\Pia\\Desktop\\Class38JPEG\\080.jpg ist 33 x 35 Pixel.\n",
      "Die Bildgröße von C:\\Users\\Pia\\Desktop\\Class38JPEG\\081.jpg ist 44 x 45 Pixel.\n",
      "Die Bildgröße von C:\\Users\\Pia\\Desktop\\Class38JPEG\\082.jpg ist 30 x 30 Pixel.\n",
      "Die Bildgröße von C:\\Users\\Pia\\Desktop\\Class38JPEG\\083.jpg ist 32 x 38 Pixel.\n",
      "Die Bildgröße von C:\\Users\\Pia\\Desktop\\Class38JPEG\\084.jpg ist 31 x 31 Pixel.\n",
      "Die Bildgröße von C:\\Users\\Pia\\Desktop\\Class38JPEG\\085.jpg ist 23 x 23 Pixel.\n",
      "Die Bildgröße von C:\\Users\\Pia\\Desktop\\Class38JPEG\\086.jpg ist 25 x 25 Pixel.\n",
      "Die Bildgröße von C:\\Users\\Pia\\Desktop\\Class38JPEG\\087.jpg ist 80 x 80 Pixel.\n"
     ]
    }
   ],
   "source": [
    "for i in range(88):\n",
    "    if i<10:\n",
    "        ppm_filename = r\"C:\\Users\\Pia\\Desktop\\GTSDB\\FullIJCNN2013\\38\\0000\"+str(i)+\".ppm\"  # Passe den Dateinamen an\n",
    "    else:\n",
    "        ppm_filename = r\"C:\\Users\\Pia\\Desktop\\GTSDB\\FullIJCNN2013\\38\\000\"+str(i)+\".ppm\"\n",
    "    jpeg_filename = r\"C:\\Users\\Pia\\Desktop\\Class38JPEG\\0\"+str(i)+\".jpg\"     # Passe den gewünschten Ausgabedateinamen an\n",
    "    convert_ppm_to_jpeg(ppm_filename, jpeg_filename)\n",
    "    width, height = get_image_size(jpeg_filename)\n",
    "    width_all.append(width)\n",
    "    height_all.append(height)\n",
    "    if width is not None and height is not None:\n",
    "        print(f\"Die Bildgröße von {jpeg_filename} ist {width} x {height} Pixel.\")"
   ]
  },
  {
   "cell_type": "code",
   "execution_count": 29,
   "id": "eb767770",
   "metadata": {},
   "outputs": [
    {
     "name": "stdout",
     "output_type": "stream",
     "text": [
      "42 x 44\n"
     ]
    }
   ],
   "source": [
    "avg_width = sum(width_all)/len(width_all)\n",
    "avg_height = sum(height_all)/len(height_all)\n",
    "print(str(int(round(avg_width, 0))) + \" x \" + str(int(round(avg_height, 0))))"
   ]
  },
  {
   "cell_type": "code",
   "execution_count": null,
   "id": "511e8650",
   "metadata": {},
   "outputs": [],
   "source": []
  }
 ],
 "metadata": {
  "kernelspec": {
   "display_name": "Python 3 (ipykernel)",
   "language": "python",
   "name": "python3"
  },
  "language_info": {
   "codemirror_mode": {
    "name": "ipython",
    "version": 3
   },
   "file_extension": ".py",
   "mimetype": "text/x-python",
   "name": "python",
   "nbconvert_exporter": "python",
   "pygments_lexer": "ipython3",
   "version": "3.10.9"
  }
 },
 "nbformat": 4,
 "nbformat_minor": 5
}
